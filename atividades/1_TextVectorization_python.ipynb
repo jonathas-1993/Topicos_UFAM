{
  "nbformat": 4,
  "nbformat_minor": 0,
  "metadata": {
    "colab": {
      "provenance": [],
      "include_colab_link": true
    },
    "kernelspec": {
      "name": "python3",
      "display_name": "Python 3"
    },
    "language_info": {
      "name": "python"
    }
  },
  "cells": [
    {
      "cell_type": "markdown",
      "metadata": {
        "id": "view-in-github",
        "colab_type": "text"
      },
      "source": [
        "<a href=\"https://colab.research.google.com/github/jonathas-1993/Topicos_UFAM/blob/main/1_TextVectorization_python.ipynb\" target=\"_parent\"><img src=\"https://colab.research.google.com/assets/colab-badge.svg\" alt=\"Open In Colab\"/></a>"
      ]
    },
    {
      "cell_type": "markdown",
      "source": [
        "11.2.4 Using the textVectorization in pure Python"
      ],
      "metadata": {
        "id": "F_g-Jk1GFN3m"
      }
    },
    {
      "cell_type": "code",
      "source": [
        "import string"
      ],
      "metadata": {
        "id": "zqFEGs-VGEGM"
      },
      "execution_count": null,
      "outputs": []
    },
    {
      "cell_type": "code",
      "execution_count": null,
      "metadata": {
        "id": "HDOY3Zk1FKqZ"
      },
      "outputs": [],
      "source": [
        "\n",
        "class Vectorizer:\n",
        "  def standardize(self, text):  #tranforma todas as letras em letras minúsculas e elimina sinais de pontuação\n",
        "      text = text.lower()\n",
        "      return \"\".join(char for char in text\n",
        "                  if char not in string.punctuation)\n",
        "\n",
        "  def tokenize(self, text):    #separa as palvras em tokens\n",
        "      text = self.standardize(text)\n",
        "      return text.split()\n",
        "\n",
        "  def make_vocabulary(self, dataset): # Indexação: cria um dicionário denominado de vocabulário com duas entradas: (índice, token)\n",
        "      self.vocabulary = {\"\":0,\"[UNK]\":1}\n",
        "      for text in dataset:\n",
        "        text = self.standardize(text)\n",
        "        tokens = self.tokenize(text)\n",
        "        for token in  tokens:\n",
        "          if token not in self.vocabulary:\n",
        "            self.vocabulary[token] = len(self.vocabulary)\n",
        "      self.inverse_vocabulary = dict((v, k)for k,v in self.vocabulary.items())\n",
        "\n",
        "  def encode(self, text):            # Vetorização: codificação de texto\n",
        "    text = self.standardize(text)\n",
        "    tokens = self.tokenize(text)\n",
        "    return[self.vocabulary.get(token,1) for token in tokens]\n",
        "\n",
        "  def decode(self, int_sequence):    # decodificação de um texto vetorizado em tokens\n",
        "    return \" \".join(\n",
        "        self.inverse_vocabulary.get(i,\"[UNK]\")for i in  int_sequence)"
      ]
    },
    {
      "cell_type": "code",
      "source": [
        "vectorizer = Vectorizer()       # exemplo de texto para criação de um dicionário de palavras\n",
        "dataset = [\n",
        "\"I write, erase, rewrite\",\n",
        "\"Erase again, and then\",\n",
        "\"A poppy blooms.\",\n",
        "]\n",
        "vectorizer.make_vocabulary(dataset)\n",
        "print(vectorizer.inverse_vocabulary)"
      ],
      "metadata": {
        "id": "AIBVEoF4KMtg",
        "colab": {
          "base_uri": "https://localhost:8080/"
        },
        "outputId": "9f0aa7a8-d4f9-428f-f815-12bfa5aa2d49"
      },
      "execution_count": null,
      "outputs": [
        {
          "output_type": "stream",
          "name": "stdout",
          "text": [
            "{0: '', 1: '[UNK]', 2: 'i', 3: 'write', 4: 'erase', 5: 'rewrite', 6: 'again', 7: 'and', 8: 'then', 9: 'a', 10: 'poppy', 11: 'blooms'}\n"
          ]
        }
      ]
    },
    {
      "cell_type": "code",
      "source": [
        "test_sentence =\"I write, rewrite, and still rewrite again\"       #exemplo de codificação de um texto com o vocabulário criado anteriormente\n",
        "encoded_sentence = vectorizer.encode(test_sentence)              #verificar que still é codificado com 1 (UNK)\n",
        "print(encoded_sentence)"
      ],
      "metadata": {
        "colab": {
          "base_uri": "https://localhost:8080/"
        },
        "id": "ANpC5yBhI_ZJ",
        "outputId": "e06bcfc6-1a14-45b4-bd06-9b4581c2107e"
      },
      "execution_count": null,
      "outputs": [
        {
          "output_type": "stream",
          "name": "stdout",
          "text": [
            "[2, 3, 5, 7, 1, 5, 6]\n"
          ]
        }
      ]
    },
    {
      "cell_type": "code",
      "source": [
        "decoded_sentence = vectorizer.decode(encoded_sentence)           #exemplo de decodificação do vetor de índices criado anteriormente\n",
        "print(decoded_sentence)                                          # verificar que 1 é decodificado com [UNK]"
      ],
      "metadata": {
        "colab": {
          "base_uri": "https://localhost:8080/"
        },
        "id": "X7kWz18fNQxx",
        "outputId": "86f065a1-6aa1-4f42-9665-3edc4ec58038"
      },
      "execution_count": null,
      "outputs": [
        {
          "output_type": "stream",
          "name": "stdout",
          "text": [
            "i write rewrite and [UNK] rewrite again\n"
          ]
        }
      ]
    },
    {
      "cell_type": "markdown",
      "source": [],
      "metadata": {
        "id": "7wgnXqZgFMOU"
      }
    },
    {
      "cell_type": "markdown",
      "source": [],
      "metadata": {
        "id": "Rn7fjh7aFLkz"
      }
    }
  ]
}